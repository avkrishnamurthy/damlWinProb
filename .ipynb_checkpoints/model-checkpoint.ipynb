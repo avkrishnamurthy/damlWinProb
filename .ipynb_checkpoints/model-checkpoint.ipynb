{
 "cells": [
  {
   "cell_type": "code",
   "execution_count": 41,
   "metadata": {},
   "outputs": [],
   "source": [
    "import pandas as pd \n",
    "from sklearn.linear_model import LogisticRegression \n",
    "import numpy as np\n",
    "import os\n",
    "from sklearn.model_selection import train_test_split\n",
    "from sklearn.metrics import accuracy_score\n",
    "\n"
   ]
  },
  {
   "cell_type": "code",
   "execution_count": 35,
   "metadata": {},
   "outputs": [],
   "source": [
    "csv_list = os.listdir(\"data/nba_games_2021/\")\n",
    "cols = {'home_winpct':[], 'away_winpct':[], 'home_win':[]}\n",
    "pregame_data = pd.DataFrame(cols)\n",
    "for csv in csv_list:\n",
    "    if (csv == \"urls2021\"): continue\n",
    "    game = pd.read_csv(f'data/nba_games_2021/{csv}')\n",
    "    home = game.columns[1]\n",
    "    away = game.columns[0]\n",
    "    home_record = game.loc[0][1]\n",
    "    away_record = game.loc[0][0]\n",
    "    home_winpct = int(home_record.split(\"-\")[0]) / (int(home_record.split(\"-\")[0])+int(home_record.split(\"-\")[1]))\n",
    "    away_winpct = int(away_record.split(\"-\")[0]) / (int(away_record.split(\"-\")[0])+int(away_record.split(\"-\")[1]))\n",
    "    \n",
    "    final_score = (int(game.iloc[-2][1]), int(game.iloc[-2][0]))\n",
    "    home_win = 1 if final_score[0] > final_score[1] else 0\n",
    "    row = [home_winpct, away_winpct, home_win]\n",
    "    pregame_data.loc[len(pregame_data.index)] = row"
   ]
  },
  {
   "cell_type": "code",
   "execution_count": 46,
   "metadata": {},
   "outputs": [],
   "source": [
    "\n",
    "predictors = pregame_data.drop(columns=[\"home_win\"])\n",
    "response = pregame_data[\"home_win\"]\n",
    "train_data, test_data, train_target, test_target = train_test_split(\n",
    "    predictors, response, test_size=0.8, random_state=999)\n",
    "\n",
    "model = LogisticRegression() \n",
    "model.fit(train_data, train_target) \n",
    "pregame_win_probabilities = model.predict_proba(test_data)"
   ]
  }
 ],
 "metadata": {
  "kernelspec": {
   "display_name": "Python 3 (ipykernel)",
   "language": "python",
   "name": "python3"
  },
  "language_info": {
   "codemirror_mode": {
    "name": "ipython",
    "version": 3
   },
   "file_extension": ".py",
   "mimetype": "text/x-python",
   "name": "python",
   "nbconvert_exporter": "python",
   "pygments_lexer": "ipython3",
   "version": "3.10.9"
  }
 },
 "nbformat": 4,
 "nbformat_minor": 2
}
